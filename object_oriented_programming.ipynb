{
  "nbformat": 4,
  "nbformat_minor": 0,
  "metadata": {
    "colab": {
      "name": "object_oriented_programming.ipynb",
      "provenance": [],
      "collapsed_sections": [],
      "authorship_tag": "ABX9TyMWQSDQ6zY3PCnI5cXJTz2O",
      "include_colab_link": true
    },
    "kernelspec": {
      "name": "python3",
      "display_name": "Python 3"
    },
    "language_info": {
      "name": "python"
    }
  },
  "cells": [
    {
      "cell_type": "markdown",
      "metadata": {
        "id": "view-in-github",
        "colab_type": "text"
      },
      "source": [
        "<a href=\"https://colab.research.google.com/github/basakafes/google_colab/blob/main/object_oriented_programming.ipynb\" target=\"_parent\"><img src=\"https://colab.research.google.com/assets/colab-badge.svg\" alt=\"Open In Colab\"/></a>"
      ]
    },
    {
      "cell_type": "markdown",
      "source": [
        "# OBJE ODAKLI PROGRAMLAMA"
      ],
      "metadata": {
        "id": "2wt1CkS36zBr"
      }
    },
    {
      "cell_type": "code",
      "execution_count": 2,
      "metadata": {
        "id": "focG2hKK6QxT"
      },
      "outputs": [],
      "source": [
        "benimListem = list()"
      ]
    },
    {
      "cell_type": "code",
      "source": [
        "type(benimListem)"
      ],
      "metadata": {
        "colab": {
          "base_uri": "https://localhost:8080/"
        },
        "id": "0Fv9xDt864qY",
        "outputId": "a8456569-a0c7-4070-e515-672a6ba8a4cf"
      },
      "execution_count": 3,
      "outputs": [
        {
          "output_type": "execute_result",
          "data": {
            "text/plain": [
              "list"
            ]
          },
          "metadata": {},
          "execution_count": 3
        }
      ]
    },
    {
      "cell_type": "markdown",
      "source": [
        "Aslında yukarıda liste sınıfından bir obje/nesne oluşturuyoruz. liste, string, int veri tipleri de birbirinden ayrı sınıflar. Bunlar obje oluşturabilmemiz için daha önceden hazırlanmış yapılar. Sınıflar, fonksiyonları, özellikleri vs. bütün yapıları içinde barındıran büyük yapılardır."
      ],
      "metadata": {
        "id": "3sjXBlTR69_Y"
      }
    },
    {
      "cell_type": "markdown",
      "source": [
        "## instance & attribute\n",
        "instance örnek anlamına gelir. Bir sınıftan bir obje oluşturduğumuzda buna o sınıfın örneği, o sınıfın nesnesi diyebiliriz. Örneğin yukarıdaki benimListem liste sınıfının bir objesidir.\n",
        "\n",
        "benimListem. (tab) yaptığımızda kullanabileceğimiz metotlar çıkar. ( sınıf içindeki fonksiyonlara metot denir. )\n",
        "\n",
        "attribute --> o sınıfın kendi özellikleri\n",
        "\n",
        "Class yapıları aynı özellikleri tekrar tekrar değişken ismi değiştire değiştire atamamımızı sağlar."
      ],
      "metadata": {
        "id": "eU7c83Li7Ap0"
      }
    },
    {
      "cell_type": "code",
      "source": [
        "# listede genel olarak bütün yapılar metot olarak tanımlanmıştır. Ancak değiştirebileceğimiz özellikler de vardır."
      ],
      "metadata": {
        "id": "7PT3eBvh675J"
      },
      "execution_count": 4,
      "outputs": []
    },
    {
      "cell_type": "markdown",
      "source": [
        "Class yapısında ilk harf genelde büyük yazılır. Çünkü diğer programlama dillerinde genelde böyle yazılıyor, pythonda da alışkanlık olsun diye böyle yapıyoruz. Büyük harflerle yazılanlar = sınıfı Küçük harflerle yazılanlar = o sınıfın instance'i olarak düşünülür.\n",
        "\n",
        "Özel methot --> hali hazırda python içerisinde tanımlı olan ve çağırıldığında spesifik bir amaca hizmet eden methottur.\n",
        "\n",
        "init --> initilizer-initilazing'den gelir. Başlatma fonksiyonu gibi düşünebiliriz. Ve aşağıdaki SuperKahraman sınıfından herhangi bir obje oluşturulduğu takdirde def **init**(self) fonksiyonu çağırılır.\n",
        "\n",
        "self--> def init fonksiyonun içerisinde self olmak zorunda yoksa \" **init**() takes 0 positional arguments but 1 was given \" hatası alırsın."
      ],
      "metadata": {
        "id": "IVAC5JbJ7LZh"
      }
    },
    {
      "cell_type": "code",
      "source": [
        "class SuperKahraman():\n",
        "  def __init__(self):\n",
        "    print(\"init çağırıldı\")"
      ],
      "metadata": {
        "id": "tDwydP0R7Kb1"
      },
      "execution_count": 5,
      "outputs": []
    },
    {
      "cell_type": "code",
      "source": [
        "superman = SuperKahraman()"
      ],
      "metadata": {
        "colab": {
          "base_uri": "https://localhost:8080/"
        },
        "id": "8cTTKgyM7Js_",
        "outputId": "852067fb-28c2-4a6b-f89b-d4613c0c1d1a"
      },
      "execution_count": 6,
      "outputs": [
        {
          "output_type": "stream",
          "name": "stdout",
          "text": [
            "init çağırıldı\n"
          ]
        }
      ]
    },
    {
      "cell_type": "code",
      "source": [
        "batman = SuperKahraman()"
      ],
      "metadata": {
        "colab": {
          "base_uri": "https://localhost:8080/"
        },
        "id": "4yDUcM797VSG",
        "outputId": "5a6e6448-6d52-4638-c248-6abe49da3575"
      },
      "execution_count": 8,
      "outputs": [
        {
          "output_type": "stream",
          "name": "stdout",
          "text": [
            "init çağırıldı\n"
          ]
        }
      ]
    },
    {
      "cell_type": "markdown",
      "source": [
        "yukarıdaki sonuçlardan anlayacağımız üzere her bir nesne yapıldığında çağırılan fonksiyondur.\n",
        "\n",
        "self --> ingilizcede \"kendi\" demektir. Self: sınıfın kendisine ve burada oluşturulan objenin kendisine referans vermektedir.\n",
        "\n",
        "self'i kullanarak objenin içindeki değişkenleri ve objeyle ilgili diğer işlemleri yapabilir hale geliriz."
      ],
      "metadata": {
        "id": "Dn4n0K207X_e"
      }
    },
    {
      "cell_type": "code",
      "source": [
        "class SuperKahraman():\n",
        "  def __init__(self, isimInput, yasInput, meslekInput):\n",
        "    print(\"init çağrıldı\")\n",
        "    self.isim = isimInput\n",
        "    self.yas = yasInput \n",
        "    self.meslek = meslekInput"
      ],
      "metadata": {
        "id": "rDRaq-227WQ3"
      },
      "execution_count": 9,
      "outputs": []
    },
    {
      "cell_type": "code",
      "source": [
        "superman = SuperKahraman(\"clark kent\", 27, \"gazeteci\")"
      ],
      "metadata": {
        "colab": {
          "base_uri": "https://localhost:8080/"
        },
        "id": "TGbxQvaI7aLw",
        "outputId": "f3066e4f-77d4-491f-f4e9-f324c5db5c20"
      },
      "execution_count": 10,
      "outputs": [
        {
          "output_type": "stream",
          "name": "stdout",
          "text": [
            "init çağrıldı\n"
          ]
        }
      ]
    },
    {
      "cell_type": "code",
      "source": [
        "# superman'in isim özelliğini çağırabiliriz.\n",
        "superman.isim"
      ],
      "metadata": {
        "colab": {
          "base_uri": "https://localhost:8080/",
          "height": 36
        },
        "id": "N9RQ59Yf7bIa",
        "outputId": "65719f92-2b10-4834-d28b-530489913d63"
      },
      "execution_count": 11,
      "outputs": [
        {
          "output_type": "execute_result",
          "data": {
            "text/plain": [
              "'clark kent'"
            ],
            "application/vnd.google.colaboratory.intrinsic+json": {
              "type": "string"
            }
          },
          "metadata": {},
          "execution_count": 11
        }
      ]
    },
    {
      "cell_type": "code",
      "source": [
        "# superman'in isim özelliğini değiştirebiliriz.\n",
        "superman.isim = 'Clark Kent'"
      ],
      "metadata": {
        "id": "xshmD7dE7dF6"
      },
      "execution_count": 12,
      "outputs": []
    },
    {
      "cell_type": "code",
      "source": [
        "superman.isim"
      ],
      "metadata": {
        "colab": {
          "base_uri": "https://localhost:8080/",
          "height": 36
        },
        "id": "iomT-mTX7ecS",
        "outputId": "1f534264-f645-4f45-b241-41da22323c27"
      },
      "execution_count": 13,
      "outputs": [
        {
          "output_type": "execute_result",
          "data": {
            "text/plain": [
              "'Clark Kent'"
            ],
            "application/vnd.google.colaboratory.intrinsic+json": {
              "type": "string"
            }
          },
          "metadata": {},
          "execution_count": 13
        }
      ]
    },
    {
      "cell_type": "code",
      "source": [
        "superman.meslek"
      ],
      "metadata": {
        "colab": {
          "base_uri": "https://localhost:8080/",
          "height": 36
        },
        "id": "WPH4wDz77f9u",
        "outputId": "d48453b6-9258-4dc0-cb3a-bcc89481f340"
      },
      "execution_count": 14,
      "outputs": [
        {
          "output_type": "execute_result",
          "data": {
            "text/plain": [
              "'gazeteci'"
            ],
            "application/vnd.google.colaboratory.intrinsic+json": {
              "type": "string"
            }
          },
          "metadata": {},
          "execution_count": 14
        }
      ]
    },
    {
      "cell_type": "code",
      "source": [
        ""
      ],
      "metadata": {
        "id": "lM0pGS3L7gzo"
      },
      "execution_count": null,
      "outputs": []
    }
  ]
}